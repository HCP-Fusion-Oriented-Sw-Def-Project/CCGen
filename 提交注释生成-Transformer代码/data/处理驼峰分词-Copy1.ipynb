{
 "cells": [
  {
   "cell_type": "code",
   "execution_count": 2,
   "metadata": {},
   "outputs": [],
   "source": [
    "import re\n",
    "with open(\"train_story.txt\",'r') as f1:\n",
    "    lines = f1.readlines()\n",
    "    summ = 0\n",
    "    diff_list = []\n",
    "    pattern1=\"[^A-Z][A-Z]\"\n",
    "    pattern2=\"_\"\n",
    "    for line in lines:\n",
    "        new_string=re.sub(pattern1,lambda x:x.group(0)[0]+\" \"+x.group(0)[1],line.strip())\n",
    "        new_string=re.sub(pattern2,lambda x:\" \"+x.group(0).replace('_','') ,new_string)\n",
    "        diff_list.append(new_string)\n",
    "with open(\"train_story_new.txt\",'w') as f2:\n",
    "    for diff in diff_list:\n",
    "        f2.write(diff)\n",
    "        f2.write('\\n')"
   ]
  },
  {
   "cell_type": "code",
   "execution_count": 3,
   "metadata": {},
   "outputs": [],
   "source": [
    "with open(\"test_story.txt\",'r') as f1:\n",
    "    lines = f1.readlines()\n",
    "    summ = 0\n",
    "    diff_list = []\n",
    "    pattern1=\"[^A-Z][A-Z]\"\n",
    "    pattern2=\"_\"\n",
    "    for line in lines:\n",
    "        new_string=re.sub(pattern1,lambda x:x.group(0)[0]+\" \"+x.group(0)[1],line.strip())\n",
    "        new_string=re.sub(pattern2,lambda x:\" \"+x.group(0).replace('_','') ,new_string)\n",
    "        diff_list.append(new_string)\n",
    "with open(\"test_story_new.txt\",'w') as f2:\n",
    "    for diff in diff_list:\n",
    "        f2.write(diff)\n",
    "        f2.write('\\n')"
   ]
  },
  {
   "cell_type": "code",
   "execution_count": 5,
   "metadata": {},
   "outputs": [],
   "source": [
    "with open(\"eval_story.txt\",'r') as f1:\n",
    "    lines = f1.readlines()\n",
    "    summ = 0\n",
    "    diff_list = []\n",
    "    pattern1=\"[^A-Z][A-Z]\"\n",
    "    pattern2=\"_\"\n",
    "    for line in lines:\n",
    "        new_string=re.sub(pattern1,lambda x:x.group(0)[0]+\" \"+x.group(0)[1],line.strip())\n",
    "        new_string=re.sub(pattern2,lambda x:\" \"+x.group(0).replace('_','') ,new_string)\n",
    "        diff_list.append(new_string)\n",
    "with open(\"eval_story_new.txt\",'w') as f2:\n",
    "    for diff in diff_list:\n",
    "        f2.write(diff)\n",
    "        f2.write('\\n')"
   ]
  },
  {
   "cell_type": "code",
   "execution_count": 31,
   "metadata": {},
   "outputs": [
    {
     "name": "stdout",
     "output_type": "stream",
     "text": [
      "Counter({95: 2351, 89: 2023, 93: 1546, 99: 1326, 91: 1206, 97: 1192, 94: 1140, 85: 1133, 92: 1123, 96: 1098, 90: 1075, 35: 1056, 98: 1051, 26: 1008, 100: 995, 102: 989, 88: 982, 101: 982, 87: 952, 103: 930, 39: 904, 86: 884, 81: 877, 106: 858, 104: 856, 79: 852, 78: 843, 108: 837, 107: 835, 105: 826, 42: 821, 75: 805, 84: 792, 27: 786, 82: 762, 109: 759, 110: 757, 83: 751, 73: 741, 80: 688, 76: 676, 111: 669, 112: 638, 43: 628, 77: 620, 71: 589, 114: 582, 74: 558, 115: 558, 113: 555, 55: 553, 66: 537, 116: 526, 69: 524, 70: 520, 30: 502, 31: 502, 72: 496, 68: 468, 67: 468, 23: 440, 63: 426, 41: 408, 47: 408, 28: 404, 32: 399, 64: 384, 51: 380, 19: 370, 34: 370, 65: 368, 59: 364, 118: 358, 11: 358, 117: 352, 62: 345, 38: 342, 37: 339, 61: 335, 33: 331, 120: 318, 58: 317, 57: 308, 60: 304, 53: 301, 119: 299, 36: 288, 49: 286, 45: 279, 54: 270, 40: 265, 56: 261, 121: 241, 46: 223, 122: 221, 29: 221, 44: 215, 50: 203, 52: 196, 123: 190, 48: 181, 22: 168, 8: 158, 124: 158, 125: 147, 127: 130, 25: 129, 126: 117, 130: 116, 129: 110, 128: 108, 131: 80, 21: 79, 17: 71, 24: 70, 15: 69, 134: 69, 132: 56, 133: 49, 137: 45, 135: 45, 138: 41, 136: 39, 139: 38, 16: 32, 140: 26, 149: 26, 145: 20, 141: 19, 151: 17, 142: 16, 144: 15, 150: 15, 143: 15, 156: 11, 20: 10, 159: 10, 148: 10, 153: 8, 152: 5, 176: 5, 169: 4, 18: 4, 160: 4, 147: 4, 157: 4, 168: 4, 146: 3, 166: 3, 174: 3, 161: 3, 154: 3, 190: 2, 175: 2, 178: 2, 163: 2, 189: 2, 164: 1, 158: 1, 210: 1, 188: 1, 185: 1, 240: 1, 252: 1, 177: 1, 182: 1, 155: 1, 216: 1, 162: 1, 202: 1, 171: 1, 217: 1, 13: 1})\n",
      "0-9: 158\n",
      "10-19: 905\n",
      "20-29: 3315\n",
      "30-39: 5033\n",
      "40-49: 3714\n",
      "50-59: 3153\n",
      "60-69: 4159\n",
      "70-79: 6700\n",
      "80-89: 9844\n",
      "90-99: 13108\n",
      "100-109: 8867\n",
      "110-119: 5294\n",
      "120-129: 1740\n",
      "130-139: 578\n",
      "140-149: 154\n",
      "150-159: 75\n",
      "160-169: 22\n",
      "170-179: 14\n",
      "180-189: 5\n",
      "190-199: 2\n",
      "200-209: 1\n",
      "210-219: 3\n",
      "240-249: 1\n",
      "250-259: 1\n"
     ]
    }
   ],
   "source": [
    "from collections import Counter\n",
    "# diff文件平均长度\n",
    "with open(\"train_story_new.txt\",'r') as f1:\n",
    "    lines = f1.readlines()\n",
    "    list_len = []\n",
    "    for line in lines:\n",
    "        list_len.append(len(line.split(\" \")))\n",
    "result = Counter(list_len)\n",
    "print (result)\n",
    "\n",
    "\n",
    "# code for python3\n",
    "from itertools import groupby\n",
    "\n",
    "for k, g in groupby(sorted(list_len), key=lambda x: x//10):\n",
    "    print('{}-{}: {}'.format(k*10, (k+1)*10-1, len(list(g))))"
   ]
  },
  {
   "cell_type": "code",
   "execution_count": 34,
   "metadata": {},
   "outputs": [
    {
     "name": "stdout",
     "output_type": "stream",
     "text": [
      "Counter({4: 327, 5: 311, 7: 300, 6: 285, 3: 248, 8: 246, 15: 245, 9: 225, 13: 174, 10: 174, 11: 128, 12: 104, 17: 78, 14: 40, 16: 29, 18: 21, 19: 17, 20: 12, 22: 7, 21: 7, 25: 6, 24: 4, 27: 3, 23: 3, 30: 2, 26: 2, 29: 1, 2: 1})\n",
      "0-4: 576\n",
      "5-9: 1367\n",
      "10-14: 620\n",
      "15-19: 390\n",
      "20-24: 33\n",
      "25-29: 12\n",
      "30-34: 2\n"
     ]
    }
   ],
   "source": [
    "from collections import Counter\n",
    "# msg文件平均长度\n",
    "with open(\"test_summ.txt\",'r') as f1:\n",
    "    lines = f1.readlines()\n",
    "    list_len = []\n",
    "    for line in lines:\n",
    "        list_len.append(len(line.split(\" \")))\n",
    "result = Counter(list_len)\n",
    "print (result)\n",
    "\n",
    "\n",
    "# code for python3\n",
    "from itertools import groupby\n",
    "\n",
    "for k, g in groupby(sorted(list_len), key=lambda x: x//5):\n",
    "    print('{}-{}: {}'.format(k*5, (k+1)*5-1, len(list(g))))"
   ]
  },
  {
   "cell_type": "code",
   "execution_count": 23,
   "metadata": {},
   "outputs": [
    {
     "name": "stdout",
     "output_type": "stream",
     "text": [
      "['abc']\n"
     ]
    }
   ],
   "source": [
    "import re\n",
    "re.findall('[A-Z][^A-Z]*', 'TheLongAndWinding Road')"
   ]
  }
 ],
 "metadata": {
  "kernelspec": {
   "display_name": "Python 3",
   "language": "python",
   "name": "python3"
  },
  "language_info": {
   "codemirror_mode": {
    "name": "ipython",
    "version": 3
   },
   "file_extension": ".py",
   "mimetype": "text/x-python",
   "name": "python",
   "nbconvert_exporter": "python",
   "pygments_lexer": "ipython3",
   "version": "3.7.3"
  }
 },
 "nbformat": 4,
 "nbformat_minor": 2
}
